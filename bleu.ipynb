{
 "cells": [
  {
   "cell_type": "code",
   "execution_count": 1,
   "metadata": {},
   "outputs": [],
   "source": [
    "# Test for package\n",
    "import nltk"
   ]
  },
  {
   "cell_type": "code",
   "execution_count": 9,
   "metadata": {},
   "outputs": [
    {
     "name": "stdout",
     "output_type": "stream",
     "text": [
      "['this', 'is', 'a', 'sentence', 'that', 'exists']\n",
      "[['this', 'is', 'a', 'sentence', 'that', 'exists'], ['this', 'is', 'another', 'sentence']]\n"
     ]
    }
   ],
   "source": [
    "from nltk.translate.bleu_score import sentence_bleu\n",
    "\n",
    "candidate = 'this is a sentence that exists'.split()\n",
    "\n",
    "reference = [\n",
    "    'this is a sentence that exists'.split(),\n",
    "    'this is another sentence'.split()\n",
    "]\n",
    "\n",
    "print(candidate)\n",
    "print(reference)"
   ]
  },
  {
   "cell_type": "code",
   "execution_count": 11,
   "metadata": {},
   "outputs": [
    {
     "name": "stdout",
     "output_type": "stream",
     "text": [
      "BLEU score -> 1.0\n"
     ]
    }
   ],
   "source": [
    "print('BLEU score -> {}'.format(sentence_bleu(reference, candidate)))"
   ]
  }
 ],
 "metadata": {
  "kernelspec": {
   "display_name": "LMEval",
   "language": "python",
   "name": "python3"
  },
  "language_info": {
   "codemirror_mode": {
    "name": "ipython",
    "version": 3
   },
   "file_extension": ".py",
   "mimetype": "text/x-python",
   "name": "python",
   "nbconvert_exporter": "python",
   "pygments_lexer": "ipython3",
   "version": "3.11.4"
  },
  "orig_nbformat": 4
 },
 "nbformat": 4,
 "nbformat_minor": 2
}
